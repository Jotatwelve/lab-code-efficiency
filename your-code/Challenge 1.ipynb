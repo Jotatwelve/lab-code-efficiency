{
 "cells": [
  {
   "cell_type": "markdown",
   "metadata": {},
   "source": [
    "# Challenge 1\n",
    "\n",
    "This is a dumb calculator that can add and subtract whole numbers from zero to five.\n",
    "When you run the code, you are prompted to enter two numbers (in the form of English\n",
    "word instead of number) and the operator sign (also in the form of English word).\n",
    "The code will perform the calculation and give the result if your input is what it\n",
    "expects.\n",
    "\n",
    "The code is very long and messy. Refactor it according to what you have learned about\n",
    "code simplicity and efficiency."
   ]
  },
  {
   "cell_type": "code",
   "execution_count": null,
   "metadata": {},
   "outputs": [],
   "source": [
    "print('Welcome to this calculator!')\n",
    "print('It can add and subtract whole numbers from zero to five')\n",
    "a = input('Please choose your first number (zero to five): ')\n",
    "b = input('What do you want to do? plus or minus: ')\n",
    "c = input('Please choose your second number (zero to five): ')\n",
    "\n",
    "#Puting a dictionary with the numbers\n",
    "dict_nums = {'one': 1, 'two': 2, 'three': 3, 'four': 4, 'five': 5, 'zero': 0}\n",
    "\n",
    "    if a and c in dict_nums:\n",
    "        if b == 'minus':\n",
    "            operation = dict_nums[a] - dict_nums[c]\n",
    "        if b == 'plus':\n",
    "            operation = dict_nums[a] + dict_nums[c]\n",
    "    else:\n",
    "        print(\"Incorrect input. Check it dawg.\")\n",
    "\n",
    "#Conditions of operation\n",
    "if operation <= 0:\n",
    "    operation = operation * (-1)\n",
    "    #forma de hacerlo con diccionarios que he encontrado\n",
    "    result = list(dict_nums.keys())[list(dict_nums.values()).index(operation)]\n",
    "    print('{} {} {} equals minus {}'.format(a,b,c,result))\n",
    "else:\n",
    "    result = list(dict_nums.keys())[list(dict_nums.values()).index(operation)]\n",
    "    print('{} {} {} equals {}'.format(a,b,c,result))\n",
    "\n",
    "print(\"Thanks for using this calculator, goodbye :)\")\n",
    "    \n",
    "    "
   ]
  },
  {
   "cell_type": "code",
   "execution_count": null,
   "metadata": {},
   "outputs": [],
   "source": []
  }
 ],
 "metadata": {
  "kernelspec": {
   "display_name": "Python 3",
   "language": "python",
   "name": "python3"
  },
  "language_info": {
   "codemirror_mode": {
    "name": "ipython",
    "version": 3
   },
   "file_extension": ".py",
   "mimetype": "text/x-python",
   "name": "python",
   "nbconvert_exporter": "python",
   "pygments_lexer": "ipython3",
   "version": "3.6.3"
  }
 },
 "nbformat": 4,
 "nbformat_minor": 2
}
